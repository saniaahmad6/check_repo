{
 "cells": [
  {
   "cell_type": "code",
   "execution_count": 1,
   "id": "065babe0",
   "metadata": {},
   "outputs": [
    {
     "name": "stdout",
     "output_type": "stream",
     "text": [
      "Co-occurrence Matrix:\n",
      "     the  rug  cat  sat  on  mat  dog\n",
      "the    0    1    1    4   2    1    1\n",
      "rug    1    0    0    0   1    0    0\n",
      "cat    1    0    0    1   1    0    0\n",
      "sat    4    0    1    0   2    0    1\n",
      "on     2    1    1    2   0    1    1\n",
      "mat    1    0    0    0   1    0    0\n",
      "dog    1    0    0    1   1    0    0\n",
      "Cosine Similarity Matrix:\n",
      "          the       rug       cat       sat        on       mat       dog\n",
      "the  1.000000  0.288675  0.707107  0.261116  0.707107  0.288675  0.707107\n",
      "rug  0.288675  1.000000  0.816497  0.904534  0.408248  1.000000  0.816497\n",
      "cat  0.707107  0.816497  1.000000  0.738549  0.666667  0.816497  1.000000\n",
      "sat  0.261116  0.904534  0.738549  1.000000  0.615457  0.904534  0.738549\n",
      "on   0.707107  0.408248  0.666667  0.615457  1.000000  0.408248  0.666667\n",
      "mat  0.288675  1.000000  0.816497  0.904534  0.408248  1.000000  0.816497\n",
      "dog  0.707107  0.816497  1.000000  0.738549  0.666667  0.816497  1.000000\n"
     ]
    }
   ],
   "source": [
    "import numpy as np\n",
    "import pandas as pd\n",
    "from collections import Counter\n",
    "from sklearn.metrics.pairwise import cosine_similarity\n",
    "\n",
    "\n",
    "corpus = [\"the cat sat on the mat\", \"the dog sat on the rug\"]\n",
    "\n",
    "tokens = [sentence.split() for sentence in corpus]\n",
    "\n",
    "window_size = 2\n",
    "\n",
    "vocab = set(word for sentence in tokens for word in sentence)\n",
    "vocab = list(vocab)\n",
    "co_occurrence_matrix = np.zeros((len(vocab), len(vocab)), dtype=int)\n",
    "\n",
    "word_to_index = {word: i for i, word in enumerate(vocab)}\n",
    "\n",
    "for sentence in tokens:\n",
    "    for i, word in enumerate(sentence):\n",
    "        start = max(i - window_size, 0)\n",
    "        end = min(i + window_size + 1, len(sentence))\n",
    "        window_words = sentence[start:end]\n",
    "        for window_word in window_words:\n",
    "            if window_word != word:\n",
    "                co_occurrence_matrix[word_to_index[word], word_to_index[window_word]] += 1\n",
    "\n",
    "co_occurrence_df = pd.DataFrame(co_occurrence_matrix, index=vocab, columns=vocab)\n",
    "\n",
    "print(\"Co-occurrence Matrix:\")\n",
    "print(co_occurrence_df)\n",
    "\n",
    "similarity_matrix = cosine_similarity(co_occurrence_matrix)\n",
    "\n",
    "print(\"Cosine Similarity Matrix:\")\n",
    "print(pd.DataFrame(similarity_matrix, index=vocab, columns=vocab))"
   ]
  },
  {
   "cell_type": "code",
   "execution_count": 8,
   "id": "49b1a206",
   "metadata": {},
   "outputs": [
    {
     "name": "stdout",
     "output_type": "stream",
     "text": [
      "Co-occurrence Matrix:\n",
      "     on  mat  dog  the  sat  cat  rug\n",
      "on    0    1    1    2    2    1    1\n",
      "mat   1    0    0    1    0    0    0\n",
      "dog   1    0    0    1    1    0    0\n",
      "the   2    1    1    0    4    1    1\n",
      "sat   2    0    1    4    0    1    0\n",
      "cat   1    0    0    1    1    0    0\n",
      "rug   1    0    0    1    0    0    0\n",
      "Cosine Similarity Matrix:\n",
      "           on       mat       dog       the       sat       cat       rug\n",
      "on   1.000000  0.408248  0.666667  0.707107  0.615457  0.666667  0.408248\n",
      "mat  0.408248  1.000000  0.816497  0.288675  0.904534  0.816497  1.000000\n",
      "dog  0.666667  0.816497  1.000000  0.707107  0.738549  1.000000  0.816497\n",
      "the  0.707107  0.288675  0.707107  1.000000  0.261116  0.707107  0.288675\n",
      "sat  0.615457  0.904534  0.738549  0.261116  1.000000  0.738549  0.904534\n",
      "cat  0.666667  0.816497  1.000000  0.707107  0.738549  1.000000  0.816497\n",
      "rug  0.408248  1.000000  0.816497  0.288675  0.904534  0.816497  1.000000\n"
     ]
    }
   ],
   "source": []
  },
  {
   "cell_type": "code",
   "execution_count": null,
   "id": "12a4fae4",
   "metadata": {},
   "outputs": [],
   "source": []
  },
  {
   "cell_type": "code",
   "execution_count": null,
   "id": "67d280d6",
   "metadata": {},
   "outputs": [],
   "source": []
  },
  {
   "cell_type": "code",
   "execution_count": null,
   "id": "09613c71",
   "metadata": {},
   "outputs": [],
   "source": []
  },
  {
   "cell_type": "code",
   "execution_count": null,
   "id": "02718afa",
   "metadata": {},
   "outputs": [],
   "source": []
  },
  {
   "cell_type": "code",
   "execution_count": null,
   "id": "f3c21157",
   "metadata": {},
   "outputs": [],
   "source": []
  },
  {
   "cell_type": "code",
   "execution_count": null,
   "id": "afd1904d",
   "metadata": {},
   "outputs": [],
   "source": []
  },
  {
   "cell_type": "code",
   "execution_count": null,
   "id": "38556a59",
   "metadata": {},
   "outputs": [],
   "source": []
  }
 ],
 "metadata": {
  "kernelspec": {
   "display_name": "Python 3 (ipykernel)",
   "language": "python",
   "name": "python3"
  },
  "language_info": {
   "codemirror_mode": {
    "name": "ipython",
    "version": 3
   },
   "file_extension": ".py",
   "mimetype": "text/x-python",
   "name": "python",
   "nbconvert_exporter": "python",
   "pygments_lexer": "ipython3",
   "version": "3.12.4"
  }
 },
 "nbformat": 4,
 "nbformat_minor": 5
}
