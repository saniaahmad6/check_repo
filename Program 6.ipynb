{
 "cells": [
  {
   "cell_type": "code",
   "execution_count": 8,
   "metadata": {
    "id": "UQH6ImMPq5Ua"
   },
   "outputs": [],
   "source": [
    "from sklearn.feature_extraction.text import CountVectorizer, TfidfVectorizer\n",
    "import pprint"
   ]
  },
  {
   "cell_type": "code",
   "execution_count": 2,
   "metadata": {
    "id": "N_Bq4A5Wq9uU"
   },
   "outputs": [],
   "source": [
    "documents = [\n",
    "    \"This is the first document.\",\n",
    "    \"This document is the second document.\",\n",
    "    \"And this is the third one.\",\n",
    "    \"Is this the first document?\",\n",
    "]"
   ]
  },
  {
   "cell_type": "code",
   "execution_count": 3,
   "metadata": {
    "id": "Y2l0QNeOq9r9"
   },
   "outputs": [
    {
     "name": "stdout",
     "output_type": "stream",
     "text": [
      "Unigrams:\n",
      "Features: ['and' 'document' 'first' 'is' 'one' 'second' 'the' 'third' 'this']\n",
      "Counts:\n",
      " [[0 1 1 1 0 0 1 0 1]\n",
      " [0 2 0 1 0 1 1 0 1]\n",
      " [1 0 0 1 1 0 1 1 1]\n",
      " [0 1 1 1 0 0 1 0 1]]\n"
     ]
    }
   ],
   "source": [
    "# Unigrams\n",
    "unigram_vectorizer = CountVectorizer(ngram_range=(1, 1))\n",
    "unigram_counts = unigram_vectorizer.fit_transform(documents)\n",
    "unigram_features = unigram_vectorizer.get_feature_names_out()\n",
    "\n",
    "print(\"Unigrams:\")\n",
    "print(\"Features:\", unigram_features)\n",
    "print(\"Counts:\\n\", unigram_counts.toarray())"
   ]
  },
  {
   "cell_type": "code",
   "execution_count": 10,
   "metadata": {
    "id": "03GSPDCiq9p6"
   },
   "outputs": [
    {
     "name": "stdout",
     "output_type": "stream",
     "text": [
      "\n",
      "Bigrams:\n",
      "Features: ['and this' 'document is' 'first document' 'is the' 'is this'\n",
      " 'second document' 'the first' 'the second' 'the third' 'third one'\n",
      " 'this document' 'this is' 'this the']\n",
      "Counts:\n",
      " [[0 0 1 1 0 0 1 0 0 0 0 1 0]\n",
      " [0 1 0 1 0 1 0 1 0 0 1 0 0]\n",
      " [1 0 0 1 0 0 0 0 1 1 0 1 0]\n",
      " [0 0 1 0 1 0 1 0 0 0 0 0 1]]\n"
     ]
    }
   ],
   "source": [
    "# Bigrams\n",
    "bigram_vectorizer = CountVectorizer(ngram_range=(2, 2))\n",
    "bigram_counts = bigram_vectorizer.fit_transform(documents)\n",
    "bigram_features = bigram_vectorizer.get_feature_names_out()\n",
    "\n",
    "print(\"\\nBigrams:\")\n",
    "print(\"Features:\", bigram_features)\n",
    "print(\"Counts:\\n\", bigram_counts.toarray())"
   ]
  },
  {
   "cell_type": "code",
   "execution_count": 11,
   "metadata": {
    "id": "IPHWzNjfq9j6"
   },
   "outputs": [
    {
     "name": "stdout",
     "output_type": "stream",
     "text": [
      "\n",
      "Trigrams:\n",
      "Features: ['and this is' 'document is the' 'is the first' 'is the second'\n",
      " 'is the third' 'is this the' 'the first document' 'the second document'\n",
      " 'the third one' 'this document is' 'this is the' 'this the first']\n",
      "Counts:\n",
      " [[0 0 1 0 0 0 1 0 0 0 1 0]\n",
      " [0 1 0 1 0 0 0 1 0 1 0 0]\n",
      " [1 0 0 0 1 0 0 0 1 0 1 0]\n",
      " [0 0 0 0 0 1 1 0 0 0 0 1]]\n"
     ]
    }
   ],
   "source": [
    "# Trigrams\n",
    "trigram_vectorizer = CountVectorizer(ngram_range=(3, 3))\n",
    "trigram_counts = trigram_vectorizer.fit_transform(documents)\n",
    "trigram_features = trigram_vectorizer.get_feature_names_out()\n",
    "\n",
    "print(\"\\nTrigrams:\")\n",
    "print(\"Features:\", trigram_features)\n",
    "print(\"Counts:\\n\", trigram_counts.toarray())"
   ]
  },
  {
   "cell_type": "code",
   "execution_count": 12,
   "metadata": {
    "id": "Sk8RAOJoq9Yt"
   },
   "outputs": [
    {
     "name": "stdout",
     "output_type": "stream",
     "text": [
      "\n",
      "TF-IDF (Unigrams):\n",
      "Features: ['and' 'document' 'first' 'is' 'one' 'second' 'the' 'third' 'this']\n",
      "TF-IDF Matrix:\n",
      " [[0.         0.46979139 0.58028582 0.38408524 0.         0.\n",
      "  0.38408524 0.         0.38408524]\n",
      " [0.         0.6876236  0.         0.28108867 0.         0.53864762\n",
      "  0.28108867 0.         0.28108867]\n",
      " [0.51184851 0.         0.         0.26710379 0.51184851 0.\n",
      "  0.26710379 0.51184851 0.26710379]\n",
      " [0.         0.46979139 0.58028582 0.38408524 0.         0.\n",
      "  0.38408524 0.         0.38408524]]\n"
     ]
    }
   ],
   "source": [
    "# TF-IDF (using unigrams as an example, but can be used with bigrams/trigrams too)\n",
    "tfidf_vectorizer = TfidfVectorizer(ngram_range=(1, 1)) # or (2,2) for bigrams, etc.\n",
    "tfidf_matrix = tfidf_vectorizer.fit_transform(documents)\n",
    "tfidf_features = tfidf_vectorizer.get_feature_names_out()\n",
    "\n",
    "print(\"\\nTF-IDF (Unigrams):\")\n",
    "print(\"Features:\", tfidf_features)\n",
    "print(\"TF-IDF Matrix:\\n\", tfidf_matrix.toarray())\n"
   ]
  },
  {
   "cell_type": "code",
   "execution_count": 18,
   "metadata": {
    "id": "1YDGfUQzrR1M"
   },
   "outputs": [
    {
     "name": "stdout",
     "output_type": "stream",
     "text": [
      "\n",
      "TF-IDF (Bigrams):\n",
      "Features: ['and this' 'document is' 'first document' 'is the' 'is this'\n",
      " 'second document' 'the first' 'the second' 'the third' 'third one'\n",
      " 'this document' 'this is' 'this the']\n",
      "array([[0.        , 0.        , 0.52303503, 0.42344193, 0.        ,\n",
      "        0.        , 0.52303503, 0.        , 0.        , 0.        ,\n",
      "        0.        , 0.52303503, 0.        ],\n",
      "       [0.        , 0.47633035, 0.        , 0.30403549, 0.        ,\n",
      "        0.47633035, 0.        , 0.47633035, 0.        , 0.        ,\n",
      "        0.47633035, 0.        , 0.        ],\n",
      "       [0.49819711, 0.        , 0.        , 0.31799276, 0.        ,\n",
      "        0.        , 0.        , 0.        , 0.49819711, 0.49819711,\n",
      "        0.        , 0.39278432, 0.        ],\n",
      "       [0.        , 0.        , 0.43779123, 0.        , 0.55528266,\n",
      "        0.        , 0.43779123, 0.        , 0.        , 0.        ,\n",
      "        0.        , 0.        , 0.55528266]])\n"
     ]
    }
   ],
   "source": [
    "# Example with bigrams TF-IDF\n",
    "tfidf_bigram_vectorizer = TfidfVectorizer(ngram_range=(2, 2))\n",
    "tfidf_bigram_matrix = tfidf_bigram_vectorizer.fit_transform(documents)\n",
    "tfidf_bigram_features = tfidf_bigram_vectorizer.get_feature_names_out()\n",
    "\n",
    "print(\"\\nTF-IDF (Bigrams):\")\n",
    "print(\"Features:\", tfidf_bigram_features)\n",
    "# print(\"TF-IDF Matrix:\\n\", tfidf_bigram_matrix.toarray())\n",
    "pprint.pprint(tfidf_bigram_matrix.toarray())"
   ]
  },
  {
   "cell_type": "code",
   "execution_count": null,
   "metadata": {},
   "outputs": [],
   "source": []
  },
  {
   "cell_type": "code",
   "execution_count": null,
   "metadata": {},
   "outputs": [],
   "source": []
  }
 ],
 "metadata": {
  "colab": {
   "provenance": []
  },
  "kernelspec": {
   "display_name": "Python 3 (ipykernel)",
   "language": "python",
   "name": "python3"
  },
  "language_info": {
   "codemirror_mode": {
    "name": "ipython",
    "version": 3
   },
   "file_extension": ".py",
   "mimetype": "text/x-python",
   "name": "python",
   "nbconvert_exporter": "python",
   "pygments_lexer": "ipython3",
   "version": "3.12.4"
  }
 },
 "nbformat": 4,
 "nbformat_minor": 4
}
