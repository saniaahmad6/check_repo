{
 "cells": [
  {
   "cell_type": "code",
   "execution_count": 2,
   "id": "3e2afddb-e0c4-4c20-8959-4d09720fae25",
   "metadata": {},
   "outputs": [
    {
     "name": "stdout",
     "output_type": "stream",
     "text": [
      "Collecting gensim\n",
      "  Downloading gensim-4.3.3-cp312-cp312-macosx_11_0_arm64.whl.metadata (8.1 kB)\n",
      "Requirement already satisfied: numpy<2.0,>=1.18.5 in /Users/saniaahmad/Documents/ml_folder/env/lib/python3.12/site-packages (from gensim) (1.26.4)\n",
      "Requirement already satisfied: scipy<1.14.0,>=1.7.0 in /Users/saniaahmad/Documents/ml_folder/env/lib/python3.12/site-packages (from gensim) (1.13.1)\n",
      "Collecting smart-open>=1.8.1 (from gensim)\n",
      "  Downloading smart_open-7.1.0-py3-none-any.whl.metadata (24 kB)\n",
      "Collecting wrapt (from smart-open>=1.8.1->gensim)\n",
      "  Downloading wrapt-1.17.2-cp312-cp312-macosx_11_0_arm64.whl.metadata (6.4 kB)\n",
      "Downloading gensim-4.3.3-cp312-cp312-macosx_11_0_arm64.whl (24.0 MB)\n",
      "\u001b[2K   \u001b[90m━━━━━━━━━━━━━━━━━━━━━━━━━━━━━━━━━━━━━━━━\u001b[0m \u001b[32m24.0/24.0 MB\u001b[0m \u001b[31m8.4 MB/s\u001b[0m eta \u001b[36m0:00:00\u001b[0ma \u001b[36m0:00:01\u001b[0mm\n",
      "\u001b[?25hDownloading smart_open-7.1.0-py3-none-any.whl (61 kB)\n",
      "Downloading wrapt-1.17.2-cp312-cp312-macosx_11_0_arm64.whl (38 kB)\n",
      "Installing collected packages: wrapt, smart-open, gensim\n",
      "Successfully installed gensim-4.3.3 smart-open-7.1.0 wrapt-1.17.2\n"
     ]
    }
   ],
   "source": [
    "!pip install gensim"
   ]
  },
  {
   "cell_type": "code",
   "execution_count": 4,
   "id": "54ad6fe9-958d-4937-ba97-a42163dacca9",
   "metadata": {},
   "outputs": [
    {
     "name": "stdout",
     "output_type": "stream",
     "text": [
      "[('at', 0.19912061095237732), ('bark', 0.07497558742761612), ('mat', 0.06059183180332184), ('night', 0.03364058583974838), ('the', 0.027057461440563202), ('on', 0.008826164528727531), ('dogs', -0.06900330632925034), ('sat', -0.14454565942287445)]\n"
     ]
    }
   ],
   "source": []
  },
  {
   "cell_type": "code",
   "execution_count": 6,
   "id": "8b4fee92-daa5-4dc9-abf5-2aa56aa2b440",
   "metadata": {},
   "outputs": [
    {
     "name": "stdout",
     "output_type": "stream",
     "text": [
      "Word: at, Similarity: 0.1991, Index: 2\n",
      "Word: bark, Similarity: 0.0750, Index: 3\n",
      "Word: mat, Similarity: 0.0606, Index: 5\n",
      "Word: night, Similarity: 0.0336, Index: 1\n",
      "Word: the, Similarity: 0.0271, Index: 0\n"
     ]
    }
   ],
   "source": [
    "from gensim.models import Word2Vec\n",
    "from nltk.tokenize import word_tokenize\n",
    "\n",
    "sentences = [\"the cat sat on the mat\", \"dogs bark at night\"]\n",
    "tokens = [word_tokenize(sent.lower()) for sent in sentences]\n",
    "\n",
    "model = Word2Vec(sentences=tokens, vector_size=100, window=5, min_count=1)\n",
    "\n",
    "# Get top 5 most similar words to 'cat'\n",
    "similar_words = model.wv.most_similar('cat', topn=5)\n",
    "\n",
    "# Print word, similarity score, and index\n",
    "for word, score in similar_words:\n",
    "    index = model.wv.key_to_index[word]\n",
    "    print(f\"Word: {word}, Similarity: {score:.4f}, Index: {index}\")\n"
   ]
  },
  {
   "cell_type": "code",
   "execution_count": null,
   "id": "4cd7b98a-a3c0-46d1-847a-29fda616092c",
   "metadata": {},
   "outputs": [],
   "source": []
  }
 ],
 "metadata": {
  "kernelspec": {
   "display_name": "Python 3 (ipykernel)",
   "language": "python",
   "name": "python3"
  },
  "language_info": {
   "codemirror_mode": {
    "name": "ipython",
    "version": 3
   },
   "file_extension": ".py",
   "mimetype": "text/x-python",
   "name": "python",
   "nbconvert_exporter": "python",
   "pygments_lexer": "ipython3",
   "version": "3.12.4"
  }
 },
 "nbformat": 4,
 "nbformat_minor": 5
}
